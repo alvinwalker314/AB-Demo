{
  "nbformat": 4,
  "nbformat_minor": 0,
  "metadata": {
    "colab": {
      "name": "Alvin Kaggle.ipynb",
      "version": "0.3.2",
      "provenance": [],
      "include_colab_link": true
    },
    "kernelspec": {
      "name": "python3",
      "display_name": "Python 3"
    },
    "accelerator": "GPU"
  },
  "cells": [
    {
      "cell_type": "markdown",
      "metadata": {
        "id": "view-in-github",
        "colab_type": "text"
      },
      "source": [
        "<a href=\"https://colab.research.google.com/github/alvinwalker314/AB-Demo/blob/master/Alvin_Kaggle.ipynb\" target=\"_parent\"><img src=\"https://colab.research.google.com/assets/colab-badge.svg\" alt=\"Open In Colab\"/></a>"
      ]
    },
    {
      "cell_type": "code",
      "metadata": {
        "id": "E7ZwVcchzKCs",
        "colab_type": "code",
        "colab": {
          "base_uri": "https://localhost:8080/",
          "height": 210
        },
        "outputId": "3683b2f7-906d-4af3-e4bb-2878befacd97"
      },
      "source": [
        "!pip install category_encoders"
      ],
      "execution_count": 1,
      "outputs": [
        {
          "output_type": "stream",
          "text": [
            "Requirement already satisfied: category_encoders in /usr/local/lib/python3.6/dist-packages (2.0.0)\n",
            "Requirement already satisfied: pandas>=0.21.1 in /usr/local/lib/python3.6/dist-packages (from category_encoders) (0.24.2)\n",
            "Requirement already satisfied: statsmodels>=0.6.1 in /usr/local/lib/python3.6/dist-packages (from category_encoders) (0.9.0)\n",
            "Requirement already satisfied: numpy>=1.11.3 in /usr/local/lib/python3.6/dist-packages (from category_encoders) (1.16.4)\n",
            "Requirement already satisfied: patsy>=0.4.1 in /usr/local/lib/python3.6/dist-packages (from category_encoders) (0.5.1)\n",
            "Requirement already satisfied: scikit-learn>=0.20.0 in /usr/local/lib/python3.6/dist-packages (from category_encoders) (0.21.2)\n",
            "Requirement already satisfied: scipy>=0.19.0 in /usr/local/lib/python3.6/dist-packages (from category_encoders) (1.3.0)\n",
            "Requirement already satisfied: python-dateutil>=2.5.0 in /usr/local/lib/python3.6/dist-packages (from pandas>=0.21.1->category_encoders) (2.5.3)\n",
            "Requirement already satisfied: pytz>=2011k in /usr/local/lib/python3.6/dist-packages (from pandas>=0.21.1->category_encoders) (2018.9)\n",
            "Requirement already satisfied: six in /usr/local/lib/python3.6/dist-packages (from patsy>=0.4.1->category_encoders) (1.12.0)\n",
            "Requirement already satisfied: joblib>=0.11 in /usr/local/lib/python3.6/dist-packages (from scikit-learn>=0.20.0->category_encoders) (0.13.2)\n"
          ],
          "name": "stdout"
        }
      ]
    },
    {
      "cell_type": "code",
      "metadata": {
        "id": "Tw5hs9I6kjFu",
        "colab_type": "code",
        "colab": {}
      },
      "source": [
        "import category_encoders as ce\n",
        "from google.colab import files\n",
        "import pandas as pd\n",
        "import matplotlib.pyplot as plt\n",
        "from sklearn.linear_model import LogisticRegression\n",
        "from sklearn.metrics import accuracy_score\n",
        "from sklearn.model_selection import train_test_split\n",
        "from sklearn.preprocessing import StandardScaler"
      ],
      "execution_count": 0,
      "outputs": []
    },
    {
      "cell_type": "code",
      "metadata": {
        "id": "c2CxsSaImgSy",
        "colab_type": "code",
        "colab": {}
      },
      "source": [
        "sample_sub= pd.read_csv('https://raw.githubusercontent.com/alvinwalker314/DS-Unit-2-Classification-1/master/sample_submission.csv')\n",
        "test_features= pd.read_csv('https://raw.githubusercontent.com/alvinwalker314/DS-Unit-2-Classification-1/master/test_features.csv')\n",
        "train_features= pd.read_csv('https://raw.githubusercontent.com/alvinwalker314/DS-Unit-2-Classification-1/master/train_features.csv')\n",
        "train_labels= pd.read_csv('https://raw.githubusercontent.com/alvinwalker314/DS-Unit-2-Classification-1/master/train_labels.csv')\n",
        "pd.set_option('display.float_format', '{:.2f}'.format)"
      ],
      "execution_count": 0,
      "outputs": []
    },
    {
      "cell_type": "code",
      "metadata": {
        "id": "xdTZ8ssjokak",
        "colab_type": "code",
        "colab": {
          "base_uri": "https://localhost:8080/",
          "height": 34
        },
        "outputId": "a7df8f1d-f18b-4727-94d4-413117318438"
      },
      "source": [
        "sample_sub.shape, test_features.shape, train_features.shape, train_labels.shape"
      ],
      "execution_count": 4,
      "outputs": [
        {
          "output_type": "execute_result",
          "data": {
            "text/plain": [
              "((14358, 2), (14358, 40), (59400, 40), (59400, 2))"
            ]
          },
          "metadata": {
            "tags": []
          },
          "execution_count": 4
        }
      ]
    },
    {
      "cell_type": "code",
      "metadata": {
        "id": "gJ9OsKhfozGg",
        "colab_type": "code",
        "colab": {}
      },
      "source": [
        "#Split training data\n",
        "X_train= train_features\n",
        "y_train= train_labels['status_group']\n",
        "\n",
        "X_train, X_test, y_train, y_test= train_test_split(\n",
        "    X_train, y_train, train_size=0.80, test_size=0.20,random_state= 20, stratify= y_train)\n"
      ],
      "execution_count": 0,
      "outputs": []
    },
    {
      "cell_type": "code",
      "metadata": {
        "id": "-RowUqVPrU1J",
        "colab_type": "code",
        "colab": {
          "base_uri": "https://localhost:8080/",
          "height": 34
        },
        "outputId": "579a3fe2-c20a-4bfd-84f1-643ca41f31ef"
      },
      "source": [
        "X_train.shape, X_test.shape, y_train.shape, y_test.shape"
      ],
      "execution_count": 6,
      "outputs": [
        {
          "output_type": "execute_result",
          "data": {
            "text/plain": [
              "((47520, 40), (11880, 40), (47520,), (11880,))"
            ]
          },
          "metadata": {
            "tags": []
          },
          "execution_count": 6
        }
      ]
    },
    {
      "cell_type": "code",
      "metadata": {
        "id": "3SdEp9I-rmFF",
        "colab_type": "code",
        "colab": {}
      },
      "source": [
        "#numeric features\n",
        "X_train_numeric= X_train.select_dtypes('number')\n",
        "X_test_numeric= X_test.select_dtypes('number')"
      ],
      "execution_count": 0,
      "outputs": []
    },
    {
      "cell_type": "code",
      "metadata": {
        "id": "qtukvFnVGic9",
        "colab_type": "code",
        "colab": {
          "base_uri": "https://localhost:8080/",
          "height": 105
        },
        "outputId": "f7b37594-4f08-4527-95c5-7b0365776304"
      },
      "source": [
        "#drop numerics i dont need\n",
        "X_train_numeric.drop(columns=['id', 'num_private', 'latitude', 'construction_year', 'population'], inplace=True)\n",
        "X_test_numeric.drop(columns=['id', 'num_private', 'latitude', 'construction_year', 'population'], inplace=True)"
      ],
      "execution_count": 8,
      "outputs": [
        {
          "output_type": "stream",
          "text": [
            "/usr/local/lib/python3.6/dist-packages/pandas/core/frame.py:3940: SettingWithCopyWarning: \n",
            "A value is trying to be set on a copy of a slice from a DataFrame\n",
            "\n",
            "See the caveats in the documentation: http://pandas.pydata.org/pandas-docs/stable/indexing.html#indexing-view-versus-copy\n",
            "  errors=errors)\n"
          ],
          "name": "stderr"
        }
      ]
    },
    {
      "cell_type": "code",
      "metadata": {
        "id": "vyaEHT-qwvA4",
        "colab_type": "code",
        "colab": {
          "base_uri": "https://localhost:8080/",
          "height": 34
        },
        "outputId": "6765f032-0f30-421e-b8c7-f9f2b843bf1d"
      },
      "source": [
        "X_train_numeric.shape, X_test_numeric.shape"
      ],
      "execution_count": 9,
      "outputs": [
        {
          "output_type": "execute_result",
          "data": {
            "text/plain": [
              "((47520, 5), (11880, 5))"
            ]
          },
          "metadata": {
            "tags": []
          },
          "execution_count": 9
        }
      ]
    },
    {
      "cell_type": "code",
      "metadata": {
        "id": "MjECKzlYteNd",
        "colab_type": "code",
        "colab": {}
      },
      "source": [
        "#standarize features\n",
        "scaler=StandardScaler()\n",
        "X_train_scaled= scaler.fit_transform(X_train_numeric)\n",
        "X_test_scaled= scaler.transform(X_test_numeric)"
      ],
      "execution_count": 0,
      "outputs": []
    },
    {
      "cell_type": "code",
      "metadata": {
        "id": "sjBnUFX0umH6",
        "colab_type": "code",
        "colab": {
          "base_uri": "https://localhost:8080/",
          "height": 34
        },
        "outputId": "fc38fd7d-06bb-4277-a6cf-991262e0130e"
      },
      "source": [
        "X_train_scaled.shape, X_test_scaled.shape"
      ],
      "execution_count": 11,
      "outputs": [
        {
          "output_type": "execute_result",
          "data": {
            "text/plain": [
              "((47520, 5), (11880, 5))"
            ]
          },
          "metadata": {
            "tags": []
          },
          "execution_count": 11
        }
      ]
    },
    {
      "cell_type": "code",
      "metadata": {
        "id": "VQmJBhzxu4mq",
        "colab_type": "code",
        "colab": {
          "base_uri": "https://localhost:8080/",
          "height": 34
        },
        "outputId": "fe2cce3e-8459-4626-c634-39fff0a24e33"
      },
      "source": [
        "#model with standarized numeric features\n",
        "model= LogisticRegression(solver='lbfgs', multi_class= 'auto', max_iter=1000)\n",
        "model.fit(X_train_scaled, y_train)\n",
        "y_pred= model.predict(X_test_scaled)\n",
        "accuracy_score(y_test, y_pred)"
      ],
      "execution_count": 12,
      "outputs": [
        {
          "output_type": "execute_result",
          "data": {
            "text/plain": [
              "0.5573232323232323"
            ]
          },
          "metadata": {
            "tags": []
          },
          "execution_count": 12
        }
      ]
    },
    {
      "cell_type": "code",
      "metadata": {
        "id": "BYBnD37iz9tA",
        "colab_type": "code",
        "colab": {}
      },
      "source": [
        "#coefs\n",
        "functional_coef= pd.Series(model.coef_[0], X_train_numeric.columns)\n",
        "non_functional_coef= pd.Series(model.coef_[1], X_train_numeric.columns)\n",
        "needs_repairs_coef= pd.Series(model.coef_[2], X_train_numeric.columns)"
      ],
      "execution_count": 0,
      "outputs": []
    },
    {
      "cell_type": "code",
      "metadata": {
        "id": "R90nDDln1ZFA",
        "colab_type": "code",
        "colab": {
          "base_uri": "https://localhost:8080/",
          "height": 621
        },
        "outputId": "8d1df11b-610a-47b0-d86a-adb8a052632f"
      },
      "source": [
        "#plotting coef for functional\n",
        "fig= plt.figure(figsize=(10,10))\n",
        "functional_coef.sort_values().plot.barh();\n",
        "plt.xlabel('Effect percentage')\n",
        "plt.ylabel('Features')\n",
        "plt.title('Effects of different features on whether target is functional');"
      ],
      "execution_count": 14,
      "outputs": [
        {
          "output_type": "display_data",
          "data": {
            "image/png": "[encoded data removed]",
            "text/plain": [
              "<Figure size 720x720 with 1 Axes>"
            ]
          },
          "metadata": {
            "tags": []
          }
        }
      ]
    },
    {
      "cell_type": "code",
      "metadata": {
        "id": "ISgMrL-N6T5k",
        "colab_type": "code",
        "colab": {}
      },
      "source": [
        "#plotting coef for not functional\n",
        "fig= plt.figure(figsize=(10,10))\n",
        "non_functional_coef.sort_values().plot.barh();\n",
        "plt.xlabel('Effect percentage')\n",
        "plt.ylabel('Features')\n",
        "plt.title('Effects of different features on whether target is not functional');"
      ],
      "execution_count": 0,
      "outputs": []
    },
    {
      "cell_type": "code",
      "metadata": {
        "id": "riGzPZIq6XsG",
        "colab_type": "code",
        "colab": {}
      },
      "source": [
        "#plotting coef for needs repairs\n",
        "fig= plt.figure(figsize=(10,10))\n",
        "needs_repairs_coef.sort_values().plot.barh();\n",
        "plt.xlabel('Effect percentage')\n",
        "plt.ylabel('Features')\n",
        "plt.title('Effects of different features on whether target is functional but needs repairs');\n"
      ],
      "execution_count": 0,
      "outputs": []
    },
    {
      "cell_type": "code",
      "metadata": {
        "id": "_Vu6rnrAzD5a",
        "colab_type": "code",
        "colab": {}
      },
      "source": [
        "#grab categorial features\n",
        "X_train_cat= X_train.select_dtypes(exclude='number')\n",
        "X_test_cat= X_test.select_dtypes(exclude='number')\n",
        "test_features= test_features.select_dtypes(exclude='number')"
      ],
      "execution_count": 0,
      "outputs": []
    },
    {
      "cell_type": "code",
      "metadata": {
        "id": "BeRVGcLeaNth",
        "colab_type": "code",
        "colab": {}
      },
      "source": [
        "#drop columns i dont need\n",
        "X_train_cat= X_train_cat.drop(columns= ['lga', 'date_recorded', 'funder', 'installer', 'ward', 'scheme_name', 'subvillage', 'wpt_name'])\n",
        "X_test_cat= X_test_cat.drop(columns= ['lga', 'date_recorded', 'funder', 'installer', 'ward', 'scheme_name', 'subvillage', 'wpt_name'])\n",
        "test_features= test_features.drop(columns= ['lga', 'date_recorded', 'funder', 'installer', 'ward', 'scheme_name', 'subvillage', 'wpt_name'])"
      ],
      "execution_count": 0,
      "outputs": []
    },
    {
      "cell_type": "code",
      "metadata": {
        "id": "RnV1glqj4bKQ",
        "colab_type": "code",
        "colab": {}
      },
      "source": [
        "#use one hot encoding on categorical features that are left\n",
        "encoder= ce.OneHotEncoder(use_cat_names=True)\n",
        "X_train_encoded= encoder.fit_transform(X_train_cat)\n",
        "X_test_encoded= encoder.transform(X_test_cat)\n",
        "test_features_encoded= encoder.transform(test_features)"
      ],
      "execution_count": 0,
      "outputs": []
    },
    {
      "cell_type": "code",
      "metadata": {
        "id": "fjKq_w6DgVX8",
        "colab_type": "code",
        "colab": {
          "base_uri": "https://localhost:8080/",
          "height": 34
        },
        "outputId": "f2792abe-f8ec-49e0-b90b-0e14f27f5117"
      },
      "source": [
        "X_train_encoded.shape, X_test_encoded.shape, test_features_encoded.shape"
      ],
      "execution_count": 22,
      "outputs": [
        {
          "output_type": "execute_result",
          "data": {
            "text/plain": [
              "((47520, 175), (11880, 175), (14358, 175))"
            ]
          },
          "metadata": {
            "tags": []
          },
          "execution_count": 22
        }
      ]
    },
    {
      "cell_type": "code",
      "metadata": {
        "id": "AfNhu9lM9g7s",
        "colab_type": "code",
        "colab": {
          "base_uri": "https://localhost:8080/",
          "height": 34
        },
        "outputId": "77eca325-9f5a-4707-913a-748d2c37bd03"
      },
      "source": [
        "#model with one hot encoded categorical features\n",
        "model= LogisticRegression(solver='lbfgs', multi_class= 'auto', max_iter=1000)\n",
        "model.fit(X_train_encoded, y_train)\n",
        "y_pred= model.predict(X_test_encoded)\n",
        "accuracy_score(y_test, y_pred)"
      ],
      "execution_count": 18,
      "outputs": [
        {
          "output_type": "execute_result",
          "data": {
            "text/plain": [
              "0.7328282828282828"
            ]
          },
          "metadata": {
            "tags": []
          },
          "execution_count": 18
        }
      ]
    },
    {
      "cell_type": "code",
      "metadata": {
        "id": "85SiLqT7f50j",
        "colab_type": "code",
        "colab": {}
      },
      "source": [
        "#predicting test_features\n",
        "y_pred= model.predict(test_features_encoded)"
      ],
      "execution_count": 0,
      "outputs": []
    },
    {
      "cell_type": "code",
      "metadata": {
        "id": "sFcBlbRggxRc",
        "colab_type": "code",
        "colab": {}
      },
      "source": [
        "#placing my predictions in sample sub\n",
        "sample_sub['status_group']= y_pred"
      ],
      "execution_count": 0,
      "outputs": []
    },
    {
      "cell_type": "code",
      "metadata": {
        "id": "2h3Urcz7g27q",
        "colab_type": "code",
        "colab": {
          "base_uri": "https://localhost:8080/",
          "height": 87
        },
        "outputId": "9b44d836-af8b-4dad-dd83-7773b96dbf96"
      },
      "source": [
        "#checking out amounts\n",
        "sample_sub['status_group'].value_counts()"
      ],
      "execution_count": 22,
      "outputs": [
        {
          "output_type": "execute_result",
          "data": {
            "text/plain": [
              "functional                 9729\n",
              "non functional             4546\n",
              "functional needs repair      83\n",
              "Name: status_group, dtype: int64"
            ]
          },
          "metadata": {
            "tags": []
          },
          "execution_count": 22
        }
      ]
    },
    {
      "cell_type": "code",
      "metadata": {
        "id": "7rqzOESvk_UM",
        "colab_type": "code",
        "colab": {}
      },
      "source": [
        "sample_sub.to_csv('sample_sub.csv', index=False)"
      ],
      "execution_count": 0,
      "outputs": []
    },
    {
      "cell_type": "code",
      "metadata": {
        "id": "Y00Syu7LlRkF",
        "colab_type": "code",
        "colab": {}
      },
      "source": [
        "files.download('sample_sub.csv')"
      ],
      "execution_count": 0,
      "outputs": []
    },
    {
      "cell_type": "code",
      "metadata": {
        "id": "gTRsvQPV-nKX",
        "colab_type": "code",
        "colab": {}
      },
      "source": [
        "#coef for encoded features\n",
        "functional_coef= pd.Series(model.coef_[0], X_train_encoded.columns)\n",
        "non_functional_coef= pd.Series(model.coef_[1], X_train_encoded.columns)\n",
        "needs_repairs_coef= pd.Series(model.coef_[2], X_train_encoded.columns)"
      ],
      "execution_count": 0,
      "outputs": []
    },
    {
      "cell_type": "code",
      "metadata": {
        "id": "yMswZVzF98FH",
        "colab_type": "code",
        "colab": {}
      },
      "source": [
        "#combined catergorical and numeric features\n",
        "X_train_final= pd.concat([X_train_encoded,X_train_numeric], axis=1)\n",
        "X_test_final= pd.concat([X_test_encoded, X_test_numeric],axis=1)"
      ],
      "execution_count": 0,
      "outputs": []
    },
    {
      "cell_type": "code",
      "metadata": {
        "id": "bW_3_cDOBnkw",
        "colab_type": "code",
        "colab": {}
      },
      "source": [
        "#standardized the data\n",
        "scaler= StandardScaler()\n",
        "X_train_final_scaled= scaler.fit_transform(X_train_final)\n",
        "X_test_final_scaled= scaler.transform(X_test_final)\n"
      ],
      "execution_count": 0,
      "outputs": []
    },
    {
      "cell_type": "code",
      "metadata": {
        "id": "RXxqr1lIBabI",
        "colab_type": "code",
        "colab": {
          "base_uri": "https://localhost:8080/",
          "height": 34
        },
        "outputId": "ee3b94c5-661e-439f-fb76-197687ede771"
      },
      "source": [
        "X_train_final_scaled.shape, X_test_final_scaled.shape"
      ],
      "execution_count": 35,
      "outputs": [
        {
          "output_type": "execute_result",
          "data": {
            "text/plain": [
              "((47520, 180), (11880, 180))"
            ]
          },
          "metadata": {
            "tags": []
          },
          "execution_count": 35
        }
      ]
    },
    {
      "cell_type": "code",
      "metadata": {
        "id": "zYXEOicjQaFm",
        "colab_type": "code",
        "colab": {
          "base_uri": "https://localhost:8080/",
          "height": 34
        },
        "outputId": "cd7fe35c-e247-47e0-fa2e-7f448c33b469"
      },
      "source": [
        "#model with numeric and catergorical features\n",
        "model= LogisticRegression(solver='lbfgs', multi_class= 'auto', max_iter=1000)\n",
        "model.fit(X_train_final_scaled, y_train)\n",
        "y_pred= model.predict(X_test_final_scaled)\n",
        "accuracy_score(y_test, y_pred)"
      ],
      "execution_count": 40,
      "outputs": [
        {
          "output_type": "execute_result",
          "data": {
            "text/plain": [
              "0.734006734006734"
            ]
          },
          "metadata": {
            "tags": []
          },
          "execution_count": 40
        }
      ]
    },
    {
      "cell_type": "code",
      "metadata": {
        "id": "RwoPbF0InMyY",
        "colab_type": "code",
        "colab": {
          "base_uri": "https://localhost:8080/",
          "height": 202
        },
        "outputId": "009fb8b2-26b4-48ca-f5bd-817b84a301ba"
      },
      "source": [
        "X_train= X_train.select_dtypes(exclude='number')\n",
        "X_test= X_test.select_dtypes(exclude='number')\n",
        "X_train.describe()"
      ],
      "execution_count": 2,
      "outputs": [
        {
          "output_type": "error",
          "ename": "NameError",
          "evalue": "ignored",
          "traceback": [
            "\u001b[0;31m---------------------------------------------------------------------------\u001b[0m",
            "\u001b[0;31mNameError\u001b[0m                                 Traceback (most recent call last)",
            "\u001b[0;32m<ipython-input-2-9ae98e00c3e1>\u001b[0m in \u001b[0;36m<module>\u001b[0;34m()\u001b[0m\n\u001b[0;32m----> 1\u001b[0;31m \u001b[0mX_train\u001b[0m\u001b[0;34m=\u001b[0m \u001b[0mX_train\u001b[0m\u001b[0;34m.\u001b[0m\u001b[0mselect_dtypes\u001b[0m\u001b[0;34m(\u001b[0m\u001b[0mexclude\u001b[0m\u001b[0;34m=\u001b[0m\u001b[0;34m'number'\u001b[0m\u001b[0;34m)\u001b[0m\u001b[0;34m\u001b[0m\u001b[0;34m\u001b[0m\u001b[0m\n\u001b[0m\u001b[1;32m      2\u001b[0m \u001b[0mX_test\u001b[0m\u001b[0;34m=\u001b[0m \u001b[0mX_test\u001b[0m\u001b[0;34m.\u001b[0m\u001b[0mselect_dtypes\u001b[0m\u001b[0;34m(\u001b[0m\u001b[0mexclude\u001b[0m\u001b[0;34m=\u001b[0m\u001b[0;34m'number'\u001b[0m\u001b[0;34m)\u001b[0m\u001b[0;34m\u001b[0m\u001b[0;34m\u001b[0m\u001b[0m\n\u001b[1;32m      3\u001b[0m \u001b[0mX_train\u001b[0m\u001b[0;34m.\u001b[0m\u001b[0mdescribe\u001b[0m\u001b[0;34m(\u001b[0m\u001b[0;34m)\u001b[0m\u001b[0;34m\u001b[0m\u001b[0;34m\u001b[0m\u001b[0m\n",
            "\u001b[0;31mNameError\u001b[0m: name 'X_train' is not defined"
          ]
        }
      ]
    },
    {
      "cell_type": "code",
      "metadata": {
        "id": "8GcVY3bTnbfW",
        "colab_type": "code",
        "colab": {
          "base_uri": "https://localhost:8080/",
          "height": 220
        },
        "outputId": "b46a4bf1-815d-424b-a731-6b56cb9fb61c"
      },
      "source": [
        "encoder= ce.OneHotEncoder()\n",
        "\n",
        "X_train= encoder.fit_transform(X_train)\n",
        "X_test= encoder.transform(X_test)\n"
      ],
      "execution_count": 1,
      "outputs": [
        {
          "output_type": "error",
          "ename": "NameError",
          "evalue": "ignored",
          "traceback": [
            "\u001b[0;31m---------------------------------------------------------------------------\u001b[0m",
            "\u001b[0;31mNameError\u001b[0m                                 Traceback (most recent call last)",
            "\u001b[0;32m<ipython-input-1-f3dc7de241a3>\u001b[0m in \u001b[0;36m<module>\u001b[0;34m()\u001b[0m\n\u001b[0;32m----> 1\u001b[0;31m \u001b[0mencoder\u001b[0m\u001b[0;34m=\u001b[0m \u001b[0mce\u001b[0m\u001b[0;34m.\u001b[0m\u001b[0mOneHotEncoder\u001b[0m\u001b[0;34m(\u001b[0m\u001b[0;34m)\u001b[0m\u001b[0;34m\u001b[0m\u001b[0;34m\u001b[0m\u001b[0m\n\u001b[0m\u001b[1;32m      2\u001b[0m \u001b[0;34m\u001b[0m\u001b[0m\n\u001b[1;32m      3\u001b[0m \u001b[0mX_train\u001b[0m\u001b[0;34m=\u001b[0m \u001b[0mencoder\u001b[0m\u001b[0;34m.\u001b[0m\u001b[0mfit_transform\u001b[0m\u001b[0;34m(\u001b[0m\u001b[0mX_train\u001b[0m\u001b[0;34m)\u001b[0m\u001b[0;34m\u001b[0m\u001b[0;34m\u001b[0m\u001b[0m\n\u001b[1;32m      4\u001b[0m \u001b[0mX_test\u001b[0m\u001b[0;34m=\u001b[0m \u001b[0mencoder\u001b[0m\u001b[0;34m.\u001b[0m\u001b[0mtransform\u001b[0m\u001b[0;34m(\u001b[0m\u001b[0mX_test\u001b[0m\u001b[0;34m)\u001b[0m\u001b[0;34m\u001b[0m\u001b[0;34m\u001b[0m\u001b[0m\n",
            "\u001b[0;31mNameError\u001b[0m: name 'ce' is not defined"
          ]
        }
      ]
    }
  ]
}