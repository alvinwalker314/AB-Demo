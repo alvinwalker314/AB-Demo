{
  "nbformat": 4,
  "nbformat_minor": 0,
  "metadata": {
    "colab": {
      "name": "Untitled8.ipynb",
      "version": "0.3.2",
      "provenance": [],
      "include_colab_link": true
    },
    "kernelspec": {
      "name": "python3",
      "display_name": "Python 3"
    }
  },
  "cells": [
    {
      "cell_type": "markdown",
      "metadata": {
        "id": "view-in-github",
        "colab_type": "text"
      },
      "source": [
        "<a href=\"https://colab.research.google.com/github/alvinwalker314/AB-Demo/blob/master/Untitled8.ipynb\" target=\"_parent\"><img src=\"https://colab.research.google.com/assets/colab-badge.svg\" alt=\"Open In Colab\"/></a>"
      ]
    },
    {
      "cell_type": "code",
      "metadata": {
        "id": "ATx6NKLT9-Ou",
        "colab_type": "code",
        "colab": {}
      },
      "source": [
        "import pandas as pd\n",
        "import matplotlib.pyplot as plt\n",
        "from sklearn.linear_model import LinearRegression\n",
        "import numpy as np\n",
        "from sklearn.metrics import mean_absolute_error\n",
        "import seaborn as sns"
      ],
      "execution_count": 0,
      "outputs": []
    },
    {
      "cell_type": "code",
      "metadata": {
        "id": "Q4NJVDQi-60A",
        "colab_type": "code",
        "colab": {}
      },
      "source": [
        "columns = ['Year','Incumbent Party Candidate','Other Candidate','Incumbent Party Vote Share']\n",
        "\n",
        "data = [[1952,\"Stevenson\",\"Eisenhower\",44.6],\n",
        "        [1956,\"Eisenhower\",\"Stevenson\",57.76],\n",
        "        [1960,\"Nixon\",\"Kennedy\",49.91],\n",
        "        [1964,\"Johnson\",\"Goldwater\",61.34],\n",
        "        [1968,\"Humphrey\",\"Nixon\",49.60],\n",
        "        [1972,\"Nixon\",\"McGovern\",61.79],\n",
        "        [1976,\"Ford\",\"Carter\",48.95],\n",
        "        [1980,\"Carter\",\"Reagan\",44.70],\n",
        "        [1984,\"Reagan\",\"Mondale\",59.17],\n",
        "        [1988,\"Bush, Sr.\",\"Dukakis\",53.94],\n",
        "        [1992,\"Bush, Sr.\",\"Clinton\",46.55],\n",
        "        [1996,\"Clinton\",\"Dole\",54.74],\n",
        "        [2000,\"Gore\",\"Bush, Jr.\",50.27],\n",
        "        [2004,\"Bush, Jr.\",\"Kerry\",51.24],\n",
        "        [2008,\"McCain\",\"Obama\",46.32],\n",
        "        [2012,\"Obama\",\"Romney\",52.00], \n",
        "        [2016,\"Clinton\",\"Trump\",48.2]]\n",
        "\n",
        "columns1= ['Year', 'Graduation_rate','Average Recent Growth in Personal Incomes']\n",
        "data1= [[1952, 58.6, 2.40],\n",
        "      [1956, 62.3, 2.89],\n",
        "      [1960, 65.1, .85],\n",
        "      [1964, 76.7, 4.21],\n",
        "      [1968, 77.5, 3.02],\n",
        "      [1972, 78.3, 3.62],\n",
        "      [1976, 77.3, 1.08],\n",
        "      [1980, 75.1, -.39],\n",
        "      [1984, 77.2, 3.86],\n",
        "      [1988, 76.9, 2.27],\n",
        "      [1992, 77.1, .38],\n",
        "      [1996, 77.4, 1.04],\n",
        "      [2000, 76.4, 2.36],\n",
        "      [2004, 77.3, 1.72],\n",
        "      [2008, 77.4, .10],\n",
        "      [2012, 81.1, .95],\n",
        "      [2016, 84.1, .10]]\n",
        "        \n",
        "votes = pd.DataFrame(data=data, columns=columns)\n",
        "feature_data= pd.DataFrame(columns=columns1, data=data1)"
      ],
      "execution_count": 0,
      "outputs": []
    },
    {
      "cell_type": "code",
      "metadata": {
        "id": "YjXpkYs9-9N6",
        "colab_type": "code",
        "colab": {}
      },
      "source": [
        "#merged data \n",
        "df= pd.merge(feature_data, votes)"
      ],
      "execution_count": 0,
      "outputs": []
    },
    {
      "cell_type": "code",
      "metadata": {
        "id": "RkCUVkMlWQN8",
        "colab_type": "code",
        "colab": {
          "base_uri": "https://localhost:8080/",
          "height": 195
        },
        "outputId": "e3bb9e40-f766-4b5e-8408-64baf16a55a4"
      },
      "source": [
        "df.head()"
      ],
      "execution_count": 4,
      "outputs": [
        {
          "output_type": "execute_result",
          "data": {
            "text/html": [
              "<div>\n",
              "<style scoped>\n",
              "    .dataframe tbody tr th:only-of-type {\n",
              "        vertical-align: middle;\n",
              "    }\n",
              "\n",
              "    .dataframe tbody tr th {\n",
              "        vertical-align: top;\n",
              "    }\n",
              "\n",
              "    .dataframe thead th {\n",
              "        text-align: right;\n",
              "    }\n",
              "</style>\n",
              "<table border=\"1\" class=\"dataframe\">\n",
              "  <thead>\n",
              "    <tr style=\"text-align: right;\">\n",
              "      <th></th>\n",
              "      <th>Year</th>\n",
              "      <th>Graduation_rate</th>\n",
              "      <th>Average Recent Growth in Personal Incomes</th>\n",
              "      <th>Incumbent Party Candidate</th>\n",
              "      <th>Other Candidate</th>\n",
              "      <th>Incumbent Party Vote Share</th>\n",
              "    </tr>\n",
              "  </thead>\n",
              "  <tbody>\n",
              "    <tr>\n",
              "      <th>0</th>\n",
              "      <td>1952</td>\n",
              "      <td>58.6</td>\n",
              "      <td>2.40</td>\n",
              "      <td>Stevenson</td>\n",
              "      <td>Eisenhower</td>\n",
              "      <td>44.60</td>\n",
              "    </tr>\n",
              "    <tr>\n",
              "      <th>1</th>\n",
              "      <td>1956</td>\n",
              "      <td>62.3</td>\n",
              "      <td>2.89</td>\n",
              "      <td>Eisenhower</td>\n",
              "      <td>Stevenson</td>\n",
              "      <td>57.76</td>\n",
              "    </tr>\n",
              "    <tr>\n",
              "      <th>2</th>\n",
              "      <td>1960</td>\n",
              "      <td>65.1</td>\n",
              "      <td>0.85</td>\n",
              "      <td>Nixon</td>\n",
              "      <td>Kennedy</td>\n",
              "      <td>49.91</td>\n",
              "    </tr>\n",
              "    <tr>\n",
              "      <th>3</th>\n",
              "      <td>1964</td>\n",
              "      <td>76.7</td>\n",
              "      <td>4.21</td>\n",
              "      <td>Johnson</td>\n",
              "      <td>Goldwater</td>\n",
              "      <td>61.34</td>\n",
              "    </tr>\n",
              "    <tr>\n",
              "      <th>4</th>\n",
              "      <td>1968</td>\n",
              "      <td>77.5</td>\n",
              "      <td>3.02</td>\n",
              "      <td>Humphrey</td>\n",
              "      <td>Nixon</td>\n",
              "      <td>49.60</td>\n",
              "    </tr>\n",
              "  </tbody>\n",
              "</table>\n",
              "</div>"
            ],
            "text/plain": [
              "   Year  Graduation_rate  ...  Other Candidate Incumbent Party Vote Share\n",
              "0  1952             58.6  ...       Eisenhower                      44.60\n",
              "1  1956             62.3  ...        Stevenson                      57.76\n",
              "2  1960             65.1  ...          Kennedy                      49.91\n",
              "3  1964             76.7  ...        Goldwater                      61.34\n",
              "4  1968             77.5  ...            Nixon                      49.60\n",
              "\n",
              "[5 rows x 6 columns]"
            ]
          },
          "metadata": {
            "tags": []
          },
          "execution_count": 4
        }
      ]
    },
    {
      "cell_type": "code",
      "metadata": {
        "id": "jTbgT16PIetV",
        "colab_type": "code",
        "colab": {}
      },
      "source": [
        "#using one feature\n",
        "features=['Graduation_rate']\n",
        "target= 'Incumbent Party Vote Share'\n",
        "X=df[features]\n",
        "y= df[target]"
      ],
      "execution_count": 0,
      "outputs": []
    },
    {
      "cell_type": "code",
      "metadata": {
        "id": "74BMTDJkMFOc",
        "colab_type": "code",
        "colab": {}
      },
      "source": [
        "#instantize Linear Regression model, model to the data, and got predictions for X\n",
        "model= LinearRegression()\n",
        "model.fit(X, y)\n",
        "y_pred= model.predict(X)"
      ],
      "execution_count": 0,
      "outputs": []
    },
    {
      "cell_type": "code",
      "metadata": {
        "id": "eVUSNMS-MRh6",
        "colab_type": "code",
        "colab": {}
      },
      "source": [
        "#created a predicition and absolute error column \n",
        "df['Prediction']= y_pred \n",
        "df['absolute error']= (df['Prediction']-df[target]).abs()"
      ],
      "execution_count": 0,
      "outputs": []
    },
    {
      "cell_type": "code",
      "metadata": {
        "id": "WwcoP5FSMXfG",
        "colab_type": "code",
        "colab": {
          "base_uri": "https://localhost:8080/",
          "height": 313
        },
        "outputId": "70249c0b-532e-48ba-f4a7-36112f78188f"
      },
      "source": [
        "#added x ticks for each year\n",
        "xticks=[year for year in range(1952, 2020, 4)]\n",
        "plt.xticks(ticks=xticks)\n",
        "#set figure size\n",
        "sns.set(rc={'figure.figsize':(10,5)})\n",
        "#created scatterplot of observations and predictions\n",
        "ax= sns.scatterplot(x='Year', y='Incumbent Party Vote Share', data= df, label='Observations')\n",
        "sns.scatterplot(x='Year', y='Prediction', data= df, ax=ax, label='Predictions')\n",
        "#labels\n",
        "plt.ylabel('Incumbent Party Vote Share')\n",
        "plt.title('Predicting Party Vote Share with Graduation Rates')"
      ],
      "execution_count": 8,
      "outputs": [
        {
          "output_type": "execute_result",
          "data": {
            "text/plain": [
              "Text(0.5, 1.0, 'Predicting Party Vote Share with Graduation Rates')"
            ]
          },
          "metadata": {
            "tags": []
          },
          "execution_count": 8
        },
        {
          "output_type": "display_data",
          "data": {
            "image/png": "[encoded data removed]",
            "text/plain": [
              "<Figure size 432x288 with 1 Axes>"
            ]
          },
          "metadata": {
            "tags": []
          }
        }
      ]
    },
    {
      "cell_type": "code",
      "metadata": {
        "id": "n7fg5bkXIrGb",
        "colab_type": "code",
        "colab": {}
      },
      "source": [
        "#2 features\n",
        "features= ['Graduation_rate', 'Average Recent Growth in Personal Incomes']\n",
        "target= 'Incumbent Party Vote Share' \n",
        "X= df[features]\n",
        "y= df[target]\n"
      ],
      "execution_count": 0,
      "outputs": []
    },
    {
      "cell_type": "code",
      "metadata": {
        "id": "ZVEUMc6nJgBr",
        "colab_type": "code",
        "colab": {}
      },
      "source": [
        "#creating, fitting, and predicting with second model\n",
        "model2= LinearRegression()\n",
        "model2.fit(X,y)\n",
        "y_pred= model2.predict(X)"
      ],
      "execution_count": 0,
      "outputs": []
    },
    {
      "cell_type": "code",
      "metadata": {
        "id": "v_yslaGHJz-R",
        "colab_type": "code",
        "colab": {
          "base_uri": "https://localhost:8080/",
          "height": 34
        },
        "outputId": "614a7ca1-1512-48d6-e5eb-4d9e01f557a5"
      },
      "source": [
        "mean_absolute_error(y, y_pred)"
      ],
      "execution_count": 11,
      "outputs": [
        {
          "output_type": "execute_result",
          "data": {
            "text/plain": [
              "2.3883362312630596"
            ]
          },
          "metadata": {
            "tags": []
          },
          "execution_count": 11
        }
      ]
    },
    {
      "cell_type": "code",
      "metadata": {
        "id": "xmCJX4sFKD7M",
        "colab_type": "code",
        "colab": {}
      },
      "source": [
        "#adding prediction and absolute error columns\n",
        "df['Prediction']= y_pred \n",
        "df['absolute error']= (df['Prediction']-df[target]).abs()"
      ],
      "execution_count": 0,
      "outputs": []
    },
    {
      "cell_type": "code",
      "metadata": {
        "id": "qScwKV2sLG4W",
        "colab_type": "code",
        "colab": {
          "base_uri": "https://localhost:8080/",
          "height": 550
        },
        "outputId": "97af8118-816b-4bd5-db70-2b43bd369a72"
      },
      "source": [
        "df.head(20)"
      ],
      "execution_count": 13,
      "outputs": [
        {
          "output_type": "execute_result",
          "data": {
            "text/html": [
              "<div>\n",
              "<style scoped>\n",
              "    .dataframe tbody tr th:only-of-type {\n",
              "        vertical-align: middle;\n",
              "    }\n",
              "\n",
              "    .dataframe tbody tr th {\n",
              "        vertical-align: top;\n",
              "    }\n",
              "\n",
              "    .dataframe thead th {\n",
              "        text-align: right;\n",
              "    }\n",
              "</style>\n",
              "<table border=\"1\" class=\"dataframe\">\n",
              "  <thead>\n",
              "    <tr style=\"text-align: right;\">\n",
              "      <th></th>\n",
              "      <th>Year</th>\n",
              "      <th>Graduation_rate</th>\n",
              "      <th>Average Recent Growth in Personal Incomes</th>\n",
              "      <th>Incumbent Party Candidate</th>\n",
              "      <th>Other Candidate</th>\n",
              "      <th>Incumbent Party Vote Share</th>\n",
              "      <th>Prediction</th>\n",
              "      <th>absolute error</th>\n",
              "    </tr>\n",
              "  </thead>\n",
              "  <tbody>\n",
              "    <tr>\n",
              "      <th>0</th>\n",
              "      <td>1952</td>\n",
              "      <td>58.6</td>\n",
              "      <td>2.40</td>\n",
              "      <td>Stevenson</td>\n",
              "      <td>Eisenhower</td>\n",
              "      <td>44.60</td>\n",
              "      <td>50.264716</td>\n",
              "      <td>5.664716</td>\n",
              "    </tr>\n",
              "    <tr>\n",
              "      <th>1</th>\n",
              "      <td>1956</td>\n",
              "      <td>62.3</td>\n",
              "      <td>2.89</td>\n",
              "      <td>Eisenhower</td>\n",
              "      <td>Stevenson</td>\n",
              "      <td>57.76</td>\n",
              "      <td>52.589712</td>\n",
              "      <td>5.170288</td>\n",
              "    </tr>\n",
              "    <tr>\n",
              "      <th>2</th>\n",
              "      <td>1960</td>\n",
              "      <td>65.1</td>\n",
              "      <td>0.85</td>\n",
              "      <td>Nixon</td>\n",
              "      <td>Kennedy</td>\n",
              "      <td>49.91</td>\n",
              "      <td>46.759953</td>\n",
              "      <td>3.150047</td>\n",
              "    </tr>\n",
              "    <tr>\n",
              "      <th>3</th>\n",
              "      <td>1964</td>\n",
              "      <td>76.7</td>\n",
              "      <td>4.21</td>\n",
              "      <td>Johnson</td>\n",
              "      <td>Goldwater</td>\n",
              "      <td>61.34</td>\n",
              "      <td>59.790389</td>\n",
              "      <td>1.549611</td>\n",
              "    </tr>\n",
              "    <tr>\n",
              "      <th>4</th>\n",
              "      <td>1968</td>\n",
              "      <td>77.5</td>\n",
              "      <td>3.02</td>\n",
              "      <td>Humphrey</td>\n",
              "      <td>Nixon</td>\n",
              "      <td>49.60</td>\n",
              "      <td>56.213462</td>\n",
              "      <td>6.613462</td>\n",
              "    </tr>\n",
              "    <tr>\n",
              "      <th>5</th>\n",
              "      <td>1972</td>\n",
              "      <td>78.3</td>\n",
              "      <td>3.62</td>\n",
              "      <td>Nixon</td>\n",
              "      <td>McGovern</td>\n",
              "      <td>61.79</td>\n",
              "      <td>58.271442</td>\n",
              "      <td>3.518558</td>\n",
              "    </tr>\n",
              "    <tr>\n",
              "      <th>6</th>\n",
              "      <td>1976</td>\n",
              "      <td>77.3</td>\n",
              "      <td>1.08</td>\n",
              "      <td>Ford</td>\n",
              "      <td>Carter</td>\n",
              "      <td>48.95</td>\n",
              "      <td>50.064059</td>\n",
              "      <td>1.114059</td>\n",
              "    </tr>\n",
              "    <tr>\n",
              "      <th>7</th>\n",
              "      <td>1980</td>\n",
              "      <td>75.1</td>\n",
              "      <td>-0.39</td>\n",
              "      <td>Carter</td>\n",
              "      <td>Reagan</td>\n",
              "      <td>44.70</td>\n",
              "      <td>44.971251</td>\n",
              "      <td>0.271251</td>\n",
              "    </tr>\n",
              "    <tr>\n",
              "      <th>8</th>\n",
              "      <td>1984</td>\n",
              "      <td>77.2</td>\n",
              "      <td>3.86</td>\n",
              "      <td>Reagan</td>\n",
              "      <td>Mondale</td>\n",
              "      <td>59.17</td>\n",
              "      <td>58.794332</td>\n",
              "      <td>0.375668</td>\n",
              "    </tr>\n",
              "    <tr>\n",
              "      <th>9</th>\n",
              "      <td>1988</td>\n",
              "      <td>76.9</td>\n",
              "      <td>2.27</td>\n",
              "      <td>Bush, Sr.</td>\n",
              "      <td>Dukakis</td>\n",
              "      <td>53.94</td>\n",
              "      <td>53.725578</td>\n",
              "      <td>0.214422</td>\n",
              "    </tr>\n",
              "    <tr>\n",
              "      <th>10</th>\n",
              "      <td>1992</td>\n",
              "      <td>77.1</td>\n",
              "      <td>0.38</td>\n",
              "      <td>Bush, Sr.</td>\n",
              "      <td>Clinton</td>\n",
              "      <td>46.55</td>\n",
              "      <td>47.818168</td>\n",
              "      <td>1.268168</td>\n",
              "    </tr>\n",
              "    <tr>\n",
              "      <th>11</th>\n",
              "      <td>1996</td>\n",
              "      <td>77.4</td>\n",
              "      <td>1.04</td>\n",
              "      <td>Clinton</td>\n",
              "      <td>Dole</td>\n",
              "      <td>54.74</td>\n",
              "      <td>49.959287</td>\n",
              "      <td>4.780713</td>\n",
              "    </tr>\n",
              "    <tr>\n",
              "      <th>12</th>\n",
              "      <td>2000</td>\n",
              "      <td>76.4</td>\n",
              "      <td>2.36</td>\n",
              "      <td>Gore</td>\n",
              "      <td>Bush, Jr.</td>\n",
              "      <td>50.27</td>\n",
              "      <td>53.903157</td>\n",
              "      <td>3.633157</td>\n",
              "    </tr>\n",
              "    <tr>\n",
              "      <th>13</th>\n",
              "      <td>2004</td>\n",
              "      <td>77.3</td>\n",
              "      <td>1.72</td>\n",
              "      <td>Bush, Jr.</td>\n",
              "      <td>Kerry</td>\n",
              "      <td>51.24</td>\n",
              "      <td>52.078775</td>\n",
              "      <td>0.838775</td>\n",
              "    </tr>\n",
              "    <tr>\n",
              "      <th>14</th>\n",
              "      <td>2008</td>\n",
              "      <td>77.4</td>\n",
              "      <td>0.10</td>\n",
              "      <td>McCain</td>\n",
              "      <td>Obama</td>\n",
              "      <td>46.32</td>\n",
              "      <td>47.000174</td>\n",
              "      <td>0.680174</td>\n",
              "    </tr>\n",
              "    <tr>\n",
              "      <th>15</th>\n",
              "      <td>2012</td>\n",
              "      <td>81.1</td>\n",
              "      <td>0.95</td>\n",
              "      <td>Obama</td>\n",
              "      <td>Romney</td>\n",
              "      <td>52.00</td>\n",
              "      <td>50.458447</td>\n",
              "      <td>1.541553</td>\n",
              "    </tr>\n",
              "    <tr>\n",
              "      <th>16</th>\n",
              "      <td>2016</td>\n",
              "      <td>84.1</td>\n",
              "      <td>0.10</td>\n",
              "      <td>Clinton</td>\n",
              "      <td>Trump</td>\n",
              "      <td>48.20</td>\n",
              "      <td>48.417096</td>\n",
              "      <td>0.217096</td>\n",
              "    </tr>\n",
              "  </tbody>\n",
              "</table>\n",
              "</div>"
            ],
            "text/plain": [
              "    Year  Graduation_rate  ...  Prediction absolute error\n",
              "0   1952             58.6  ...   50.264716       5.664716\n",
              "1   1956             62.3  ...   52.589712       5.170288\n",
              "2   1960             65.1  ...   46.759953       3.150047\n",
              "3   1964             76.7  ...   59.790389       1.549611\n",
              "4   1968             77.5  ...   56.213462       6.613462\n",
              "5   1972             78.3  ...   58.271442       3.518558\n",
              "6   1976             77.3  ...   50.064059       1.114059\n",
              "7   1980             75.1  ...   44.971251       0.271251\n",
              "8   1984             77.2  ...   58.794332       0.375668\n",
              "9   1988             76.9  ...   53.725578       0.214422\n",
              "10  1992             77.1  ...   47.818168       1.268168\n",
              "11  1996             77.4  ...   49.959287       4.780713\n",
              "12  2000             76.4  ...   53.903157       3.633157\n",
              "13  2004             77.3  ...   52.078775       0.838775\n",
              "14  2008             77.4  ...   47.000174       0.680174\n",
              "15  2012             81.1  ...   50.458447       1.541553\n",
              "16  2016             84.1  ...   48.417096       0.217096\n",
              "\n",
              "[17 rows x 8 columns]"
            ]
          },
          "metadata": {
            "tags": []
          },
          "execution_count": 13
        }
      ]
    },
    {
      "cell_type": "code",
      "metadata": {
        "id": "-WzNf-IhLULh",
        "colab_type": "code",
        "colab": {
          "base_uri": "https://localhost:8080/",
          "height": 374
        },
        "outputId": "ecc7befc-1d25-4d99-8f40-35534822901f"
      },
      "source": [
        "#xticks \n",
        "xticks=[year for year in range(1952, 2020, 4)]\n",
        "plt.xticks(ticks=xticks)\n",
        "#figure size\n",
        "sns.set(rc={'figure.figsize':(15,10)})\n",
        "#plots\n",
        "ax= sns.scatterplot(x='Year', y='Incumbent Party Vote Share', data=df, label='Observations')\n",
        "sns.scatterplot(x='Year', y='Prediction', data= df, label='Predictions', ax=ax)\n",
        "#fontsize for legend\n",
        "plt.legend(fontsize=20)\n",
        "#labels\n",
        "plt.ylabel('Incumbent Party Vote Share')\n",
        "plt.title('Party Vote Share Predictions using Graduation Rates and Average Personal Income Growth', fontsize= 15)"
      ],
      "execution_count": 14,
      "outputs": [
        {
          "output_type": "execute_result",
          "data": {
            "text/plain": [
              "Text(0.5, 1.0, 'Party Vote Share Predictions using Graduation Rates and Average Personal Income Growth')"
            ]
          },
          "metadata": {
            "tags": []
          },
          "execution_count": 14
        },
        {
          "output_type": "display_data",
          "data": {
            "image/png": "[encoded data removed]",
            "text/plain": [
              "<Figure size 720x360 with 1 Axes>"
            ]
          },
          "metadata": {
            "tags": []
          }
        }
      ]
    },
    {
      "cell_type": "code",
      "metadata": {
        "id": "VByHy0_SnuKw",
        "colab_type": "code",
        "colab": {}
      },
      "source": [
        "#3 features\n",
        "columns = ['Year','US Military Fatalities per Million']\n",
        "\n",
        "data = [[1952,190],\n",
        "        [1956,  0],\n",
        "        [1960,  0],\n",
        "        [1964,  1],\n",
        "        [1968,146],\n",
        "        [1972,  0],\n",
        "        [1976,  2],\n",
        "        [1980,  0],\n",
        "        [1984,  0],\n",
        "        [1988,  0],\n",
        "        [1992,  0],\n",
        "        [1996,  0],\n",
        "        [2000,  0],\n",
        "        [2004,  4],\n",
        "        [2008, 14],\n",
        "        [2012,  5], \n",
        "        [2016,  5]]\n",
        "mil_deaths= pd.DataFrame(columns= columns, data= data) \n",
        "df=pd.merge(df,mil_deaths)"
      ],
      "execution_count": 0,
      "outputs": []
    },
    {
      "cell_type": "code",
      "metadata": {
        "id": "GmhM1NXuoAhf",
        "colab_type": "code",
        "colab": {
          "base_uri": "https://localhost:8080/",
          "height": 478
        },
        "outputId": "7ecd92a6-c762-494d-f3a2-f4454e128a0f"
      },
      "source": [
        "features= ['Graduation_rate', 'Average Recent Growth in Personal Incomes', 'US Military Fatalities per Million']\n",
        "target= 'Incumbent Party Vote Share'\n",
        "train= df.query('Year < 2006')\n",
        "test= df.query('Year > 2006')"
      ],
      "execution_count": 38,
      "outputs": [
        {
          "output_type": "execute_result",
          "data": {
            "text/html": [
              "<div>\n",
              "<style scoped>\n",
              "    .dataframe tbody tr th:only-of-type {\n",
              "        vertical-align: middle;\n",
              "    }\n",
              "\n",
              "    .dataframe tbody tr th {\n",
              "        vertical-align: top;\n",
              "    }\n",
              "\n",
              "    .dataframe thead th {\n",
              "        text-align: right;\n",
              "    }\n",
              "</style>\n",
              "<table border=\"1\" class=\"dataframe\">\n",
              "  <thead>\n",
              "    <tr style=\"text-align: right;\">\n",
              "      <th></th>\n",
              "      <th>Year</th>\n",
              "      <th>Graduation_rate</th>\n",
              "      <th>Average Recent Growth in Personal Incomes</th>\n",
              "      <th>Incumbent Party Candidate</th>\n",
              "      <th>Other Candidate</th>\n",
              "      <th>Incumbent Party Vote Share</th>\n",
              "      <th>Prediction</th>\n",
              "      <th>absolute error</th>\n",
              "      <th>US Military Fatalities per Million</th>\n",
              "    </tr>\n",
              "  </thead>\n",
              "  <tbody>\n",
              "    <tr>\n",
              "      <th>0</th>\n",
              "      <td>1952</td>\n",
              "      <td>58.6</td>\n",
              "      <td>2.40</td>\n",
              "      <td>Stevenson</td>\n",
              "      <td>Eisenhower</td>\n",
              "      <td>44.60</td>\n",
              "      <td>50.264716</td>\n",
              "      <td>5.664716</td>\n",
              "      <td>190</td>\n",
              "    </tr>\n",
              "    <tr>\n",
              "      <th>1</th>\n",
              "      <td>1956</td>\n",
              "      <td>62.3</td>\n",
              "      <td>2.89</td>\n",
              "      <td>Eisenhower</td>\n",
              "      <td>Stevenson</td>\n",
              "      <td>57.76</td>\n",
              "      <td>52.589712</td>\n",
              "      <td>5.170288</td>\n",
              "      <td>0</td>\n",
              "    </tr>\n",
              "    <tr>\n",
              "      <th>2</th>\n",
              "      <td>1960</td>\n",
              "      <td>65.1</td>\n",
              "      <td>0.85</td>\n",
              "      <td>Nixon</td>\n",
              "      <td>Kennedy</td>\n",
              "      <td>49.91</td>\n",
              "      <td>46.759953</td>\n",
              "      <td>3.150047</td>\n",
              "      <td>0</td>\n",
              "    </tr>\n",
              "    <tr>\n",
              "      <th>3</th>\n",
              "      <td>1964</td>\n",
              "      <td>76.7</td>\n",
              "      <td>4.21</td>\n",
              "      <td>Johnson</td>\n",
              "      <td>Goldwater</td>\n",
              "      <td>61.34</td>\n",
              "      <td>59.790389</td>\n",
              "      <td>1.549611</td>\n",
              "      <td>1</td>\n",
              "    </tr>\n",
              "    <tr>\n",
              "      <th>4</th>\n",
              "      <td>1968</td>\n",
              "      <td>77.5</td>\n",
              "      <td>3.02</td>\n",
              "      <td>Humphrey</td>\n",
              "      <td>Nixon</td>\n",
              "      <td>49.60</td>\n",
              "      <td>56.213462</td>\n",
              "      <td>6.613462</td>\n",
              "      <td>146</td>\n",
              "    </tr>\n",
              "    <tr>\n",
              "      <th>5</th>\n",
              "      <td>1972</td>\n",
              "      <td>78.3</td>\n",
              "      <td>3.62</td>\n",
              "      <td>Nixon</td>\n",
              "      <td>McGovern</td>\n",
              "      <td>61.79</td>\n",
              "      <td>58.271442</td>\n",
              "      <td>3.518558</td>\n",
              "      <td>0</td>\n",
              "    </tr>\n",
              "    <tr>\n",
              "      <th>6</th>\n",
              "      <td>1976</td>\n",
              "      <td>77.3</td>\n",
              "      <td>1.08</td>\n",
              "      <td>Ford</td>\n",
              "      <td>Carter</td>\n",
              "      <td>48.95</td>\n",
              "      <td>50.064059</td>\n",
              "      <td>1.114059</td>\n",
              "      <td>2</td>\n",
              "    </tr>\n",
              "    <tr>\n",
              "      <th>7</th>\n",
              "      <td>1980</td>\n",
              "      <td>75.1</td>\n",
              "      <td>-0.39</td>\n",
              "      <td>Carter</td>\n",
              "      <td>Reagan</td>\n",
              "      <td>44.70</td>\n",
              "      <td>44.971251</td>\n",
              "      <td>0.271251</td>\n",
              "      <td>0</td>\n",
              "    </tr>\n",
              "    <tr>\n",
              "      <th>8</th>\n",
              "      <td>1984</td>\n",
              "      <td>77.2</td>\n",
              "      <td>3.86</td>\n",
              "      <td>Reagan</td>\n",
              "      <td>Mondale</td>\n",
              "      <td>59.17</td>\n",
              "      <td>58.794332</td>\n",
              "      <td>0.375668</td>\n",
              "      <td>0</td>\n",
              "    </tr>\n",
              "    <tr>\n",
              "      <th>9</th>\n",
              "      <td>1988</td>\n",
              "      <td>76.9</td>\n",
              "      <td>2.27</td>\n",
              "      <td>Bush, Sr.</td>\n",
              "      <td>Dukakis</td>\n",
              "      <td>53.94</td>\n",
              "      <td>53.725578</td>\n",
              "      <td>0.214422</td>\n",
              "      <td>0</td>\n",
              "    </tr>\n",
              "    <tr>\n",
              "      <th>10</th>\n",
              "      <td>1992</td>\n",
              "      <td>77.1</td>\n",
              "      <td>0.38</td>\n",
              "      <td>Bush, Sr.</td>\n",
              "      <td>Clinton</td>\n",
              "      <td>46.55</td>\n",
              "      <td>47.818168</td>\n",
              "      <td>1.268168</td>\n",
              "      <td>0</td>\n",
              "    </tr>\n",
              "    <tr>\n",
              "      <th>11</th>\n",
              "      <td>1996</td>\n",
              "      <td>77.4</td>\n",
              "      <td>1.04</td>\n",
              "      <td>Clinton</td>\n",
              "      <td>Dole</td>\n",
              "      <td>54.74</td>\n",
              "      <td>49.959287</td>\n",
              "      <td>4.780713</td>\n",
              "      <td>0</td>\n",
              "    </tr>\n",
              "    <tr>\n",
              "      <th>12</th>\n",
              "      <td>2000</td>\n",
              "      <td>76.4</td>\n",
              "      <td>2.36</td>\n",
              "      <td>Gore</td>\n",
              "      <td>Bush, Jr.</td>\n",
              "      <td>50.27</td>\n",
              "      <td>53.903157</td>\n",
              "      <td>3.633157</td>\n",
              "      <td>0</td>\n",
              "    </tr>\n",
              "    <tr>\n",
              "      <th>13</th>\n",
              "      <td>2004</td>\n",
              "      <td>77.3</td>\n",
              "      <td>1.72</td>\n",
              "      <td>Bush, Jr.</td>\n",
              "      <td>Kerry</td>\n",
              "      <td>51.24</td>\n",
              "      <td>52.078775</td>\n",
              "      <td>0.838775</td>\n",
              "      <td>4</td>\n",
              "    </tr>\n",
              "  </tbody>\n",
              "</table>\n",
              "</div>"
            ],
            "text/plain": [
              "    Year  Graduation_rate  ...  absolute error US Military Fatalities per Million\n",
              "0   1952             58.6  ...        5.664716                                190\n",
              "1   1956             62.3  ...        5.170288                                  0\n",
              "2   1960             65.1  ...        3.150047                                  0\n",
              "3   1964             76.7  ...        1.549611                                  1\n",
              "4   1968             77.5  ...        6.613462                                146\n",
              "5   1972             78.3  ...        3.518558                                  0\n",
              "6   1976             77.3  ...        1.114059                                  2\n",
              "7   1980             75.1  ...        0.271251                                  0\n",
              "8   1984             77.2  ...        0.375668                                  0\n",
              "9   1988             76.9  ...        0.214422                                  0\n",
              "10  1992             77.1  ...        1.268168                                  0\n",
              "11  1996             77.4  ...        4.780713                                  0\n",
              "12  2000             76.4  ...        3.633157                                  0\n",
              "13  2004             77.3  ...        0.838775                                  4\n",
              "\n",
              "[14 rows x 9 columns]"
            ]
          },
          "metadata": {
            "tags": []
          },
          "execution_count": 38
        }
      ]
    },
    {
      "cell_type": "code",
      "metadata": {
        "id": "w8FDxpcspDf2",
        "colab_type": "code",
        "colab": {}
      },
      "source": [
        "X_train= train[features]\n",
        "y_train= train[target]\n",
        "X_test= test[features]\n",
        "y_test= test[target]"
      ],
      "execution_count": 0,
      "outputs": []
    },
    {
      "cell_type": "code",
      "metadata": {
        "id": "hjT90YJupQPe",
        "colab_type": "code",
        "colab": {
          "base_uri": "https://localhost:8080/",
          "height": 34
        },
        "outputId": "37b0a98b-e2a9-42e7-fcdf-03f0cc75b790"
      },
      "source": [
        "model= LinearRegression()\n",
        "model.fit(X_train, y_train)\n"
      ],
      "execution_count": 42,
      "outputs": [
        {
          "output_type": "execute_result",
          "data": {
            "text/plain": [
              "LinearRegression(copy_X=True, fit_intercept=True, n_jobs=None, normalize=False)"
            ]
          },
          "metadata": {
            "tags": []
          },
          "execution_count": 42
        }
      ]
    },
    {
      "cell_type": "code",
      "metadata": {
        "id": "Fyg_Xqv8pdYn",
        "colab_type": "code",
        "colab": {}
      },
      "source": [
        "y_pred= model.predict(X_test)\n"
      ],
      "execution_count": 0,
      "outputs": []
    },
    {
      "cell_type": "code",
      "metadata": {
        "id": "KvsVWfJIpjeu",
        "colab_type": "code",
        "colab": {
          "base_uri": "https://localhost:8080/",
          "height": 34
        },
        "outputId": "18b9d91b-4402-4a3a-faa2-2335f8c5303e"
      },
      "source": [
        "mean_absolute_error(y_pred, y_test)"
      ],
      "execution_count": 50,
      "outputs": [
        {
          "output_type": "execute_result",
          "data": {
            "text/plain": [
              "1.8469545438973587"
            ]
          },
          "metadata": {
            "tags": []
          },
          "execution_count": 50
        }
      ]
    },
    {
      "cell_type": "code",
      "metadata": {
        "id": "ou_tsKzXSBV7",
        "colab_type": "code",
        "colab": {}
      },
      "source": [
        "#splitting train and test data\n",
        "train= df.query('Year < 2005')\n",
        "test= df.query('Year > 2005')"
      ],
      "execution_count": 0,
      "outputs": []
    },
    {
      "cell_type": "code",
      "metadata": {
        "id": "emL0VD_ISmWz",
        "colab_type": "code",
        "colab": {}
      },
      "source": [
        "#splitting train and test data into features and targets\n",
        "X_train= train[features]\n",
        "y_train= train[target]\n",
        "X_test= test[features]\n",
        "y_test= test[target]"
      ],
      "execution_count": 0,
      "outputs": []
    },
    {
      "cell_type": "code",
      "metadata": {
        "id": "XZLNuorXTCeP",
        "colab_type": "code",
        "colab": {}
      },
      "source": [
        "#fitting model to training data and making predictions on the test data\n",
        "model= LinearRegression()\n",
        "model.fit(X_train, y_train)\n",
        "y_pred= model.predict(X_test)"
      ],
      "execution_count": 0,
      "outputs": []
    },
    {
      "cell_type": "code",
      "metadata": {
        "id": "mhuD2-c2TW8E",
        "colab_type": "code",
        "colab": {
          "base_uri": "https://localhost:8080/",
          "height": 34
        },
        "outputId": "47834486-dfa4-434b-ffd9-2bc1a6caa686"
      },
      "source": [
        "#finding mean absolute error of actual target values and predicted ones\n",
        "mean_absolute_error(y_test, y_pred)"
      ],
      "execution_count": 18,
      "outputs": [
        {
          "output_type": "execute_result",
          "data": {
            "text/plain": [
              "0.7713282741380448"
            ]
          },
          "metadata": {
            "tags": []
          },
          "execution_count": 18
        }
      ]
    },
    {
      "cell_type": "code",
      "metadata": {
        "id": "EB5Mj--kW1l0",
        "colab_type": "code",
        "colab": {}
      },
      "source": [
        "#grab mae for 1 and 2 features\n",
        "features2= ['Graduation_rate', 'Average Recent Growth in Personal Incomes']\n",
        "features=['Graduation_rate']\n",
        "target= 'Incumbent Party Vote Share'\n",
        "maes= []\n",
        "\n",
        "for year in df['Year']:\n",
        "  model = LinearRegression()\n",
        "  train = df[df['Year'] != year]\n",
        "  test = df[df['Year'] == year]\n",
        "  X_train = train[features]\n",
        "  y_train = train[target]\n",
        "  X_test = test[features]\n",
        "  y_test = test[target]\n",
        "  model.fit(X_train, y_train)\n",
        "  y_pred = model.predict(X_test)\n",
        "  mae = mean_absolute_error(y_test, y_pred)\n",
        "  model2 = LinearRegression()\n",
        "  train2 = df[df['Year'] != year]\n",
        "  test2 = df[df['Year'] == year]\n",
        "  X_train2 = train2[features2]\n",
        "  y_train2 = train2[target]\n",
        "  X_test2 = test2[features2]\n",
        "  y_test2 = test2[target]\n",
        "  model.fit(X_train2, y_train2)\n",
        "  y_pred2 = model.predict(X_test2)\n",
        "  mae2 = mean_absolute_error(y_test2, y_pred2)\n",
        "  maes.append([year, mae, mae2])"
      ],
      "execution_count": 0,
      "outputs": []
    },
    {
      "cell_type": "code",
      "metadata": {
        "id": "4MXzHHuld6sa",
        "colab_type": "code",
        "colab": {}
      },
      "source": [
        "#create a df of mae\n",
        "columns= ['Year', '1 Feature Mae', '2 Features Mae']\n",
        "leave_one_out= pd.DataFrame(columns=columns, data=maes)"
      ],
      "execution_count": 0,
      "outputs": []
    },
    {
      "cell_type": "code",
      "metadata": {
        "id": "PrnU_5J4e4ir",
        "colab_type": "code",
        "colab": {
          "base_uri": "https://localhost:8080/",
          "height": 34
        },
        "outputId": "2d51232e-2950-4a81-ef43-32b4e523a657"
      },
      "source": [
        "leave_one_out['1 Feature Mae'].mean(), leave_one_out['2 Features Mae'].mean()"
      ],
      "execution_count": 33,
      "outputs": [
        {
          "output_type": "execute_result",
          "data": {
            "text/plain": [
              "(5.2055470762475995, 3.080112056266986)"
            ]
          },
          "metadata": {
            "tags": []
          },
          "execution_count": 33
        }
      ]
    }
  ]
}